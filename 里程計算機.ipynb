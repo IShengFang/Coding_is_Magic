{
 "cells": [
  {
   "cell_type": "markdown",
   "metadata": {},
   "source": [
    "# 有錢人就是要搭飛機！\n",
    "\n",
    "## Week 1\n",
    "\n",
    "題目說明：\n",
    "暑假時小方方搭飛機去美國玩，飛了下列航段：\n",
    "\n",
    "\n",
    "|航班   |  出發地-到達地 | 實際距離 |  艙等 |\n",
    "|------|--------------|---------|------|\n",
    "|BR0112|   TPE-OKA    |  408 mi | X    |\n",
    "|NH0762|   OKA-ITM    |  752 mi | X    |\n",
    "|JL0060|   KIX-LAX    |  5743 mi| Y    | \n",
    "|AA6014|   LAX-SJC    |  308mi  | Y    |\n",
    "|AA6054|   SJC-LAX    |  308mi  | Y    |\n",
    "|AA6053|   LAX-SAN    |  110mi  | Y    |\n",
    "|JL0065|   SAN-NRT    |  5558mi | Y    |\n",
    "|JL0809|   NRT-TPE    |  1365mi | Y    |\n",
    "\n",
    "\n",
    "\n",
    "小方方是個有錢人，可是他喜歡打折，\n",
    "所以他想要算出這些飛行能為他的貴賓卡累積多少航空里程。\n",
    "\n",
    "$$航空里程=累積比率 \\times 實際距離 $$\n",
    "\n",
    "其中X艙的累積比率是0，Y艙的累積比率是100%\n",
    "請問我如果小方方沒有會籍加成的話，他可以拿到多少里程？\n",
    "而如果他有阿拉斯加航空的MVP會籍，能夠拿到額外50% 里程bonus，\n",
    "則請問他可以拿到多少里程？\n",
    "請試著用List做做看，也可以加上input來做一個里程計算機。\n"
   ]
  },
  {
   "cell_type": "markdown",
   "metadata": {},
   "source": [
    "### 用List的作法"
   ]
  },
  {
   "cell_type": "code",
   "execution_count": 5,
   "metadata": {
    "collapsed": true
   },
   "outputs": [],
   "source": [
    "distance = [408, 752, 5743, 308, 308, 110, 5558, 1365]\n",
    "accumulate_rate = [0, 0 , 1, 1, 1, 1, 1, 1]"
   ]
  },
  {
   "cell_type": "code",
   "execution_count": 6,
   "metadata": {
    "collapsed": false
   },
   "outputs": [
    {
     "data": {
      "text/plain": [
       "0"
      ]
     },
     "execution_count": 6,
     "metadata": {},
     "output_type": "execute_result"
    }
   ],
   "source": [
    "distance[0]*accumulate_rate[0]"
   ]
  },
  {
   "cell_type": "code",
   "execution_count": 7,
   "metadata": {
    "collapsed": false
   },
   "outputs": [
    {
     "data": {
      "text/plain": [
       "0"
      ]
     },
     "execution_count": 7,
     "metadata": {},
     "output_type": "execute_result"
    }
   ],
   "source": [
    "distance[1]*accumulate_rate[1]"
   ]
  },
  {
   "cell_type": "code",
   "execution_count": 8,
   "metadata": {
    "collapsed": false
   },
   "outputs": [
    {
     "data": {
      "text/plain": [
       "5743"
      ]
     },
     "execution_count": 8,
     "metadata": {},
     "output_type": "execute_result"
    }
   ],
   "source": [
    "distance[2]*accumulate_rate[2]"
   ]
  },
  {
   "cell_type": "code",
   "execution_count": 9,
   "metadata": {
    "collapsed": false
   },
   "outputs": [
    {
     "data": {
      "text/plain": [
       "308"
      ]
     },
     "execution_count": 9,
     "metadata": {},
     "output_type": "execute_result"
    }
   ],
   "source": [
    "distance[3]*accumulate_rate[3]"
   ]
  },
  {
   "cell_type": "code",
   "execution_count": 10,
   "metadata": {
    "collapsed": false
   },
   "outputs": [
    {
     "data": {
      "text/plain": [
       "308"
      ]
     },
     "execution_count": 10,
     "metadata": {},
     "output_type": "execute_result"
    }
   ],
   "source": [
    "distance[4]*accumulate_rate[4]"
   ]
  },
  {
   "cell_type": "code",
   "execution_count": 11,
   "metadata": {
    "collapsed": false
   },
   "outputs": [
    {
     "data": {
      "text/plain": [
       "110"
      ]
     },
     "execution_count": 11,
     "metadata": {},
     "output_type": "execute_result"
    }
   ],
   "source": [
    "distance[5]*accumulate_rate[5]"
   ]
  },
  {
   "cell_type": "code",
   "execution_count": 12,
   "metadata": {
    "collapsed": false
   },
   "outputs": [
    {
     "data": {
      "text/plain": [
       "5558"
      ]
     },
     "execution_count": 12,
     "metadata": {},
     "output_type": "execute_result"
    }
   ],
   "source": [
    "distance[6]*accumulate_rate[6]"
   ]
  },
  {
   "cell_type": "code",
   "execution_count": 13,
   "metadata": {
    "collapsed": false
   },
   "outputs": [
    {
     "data": {
      "text/plain": [
       "1365"
      ]
     },
     "execution_count": 13,
     "metadata": {},
     "output_type": "execute_result"
    }
   ],
   "source": [
    "distance[7]*accumulate_rate[7]"
   ]
  },
  {
   "cell_type": "markdown",
   "metadata": {},
   "source": [
    "無會籍總和"
   ]
  },
  {
   "cell_type": "code",
   "execution_count": 15,
   "metadata": {
    "collapsed": false
   },
   "outputs": [
    {
     "data": {
      "text/plain": [
       "13392"
      ]
     },
     "execution_count": 15,
     "metadata": {},
     "output_type": "execute_result"
    }
   ],
   "source": [
    "distance[0]*accumulate_rate[0]+distance[1]*accumulate_rate[1]+distance[2]*accumulate_rate[2]+distance[3]*accumulate_rate[3]+distance[4]*accumulate_rate[4]+distance[5]*accumulate_rate[5]+distance[6]*accumulate_rate[6]+distance[7]*accumulate_rate[7]"
   ]
  },
  {
   "cell_type": "raw",
   "metadata": {},
   "source": [
    "阿拉斯加航空MVP會籍總和"
   ]
  },
  {
   "cell_type": "code",
   "execution_count": 18,
   "metadata": {
    "collapsed": false
   },
   "outputs": [
    {
     "data": {
      "text/plain": [
       "20088.0"
      ]
     },
     "execution_count": 18,
     "metadata": {},
     "output_type": "execute_result"
    }
   ],
   "source": [
    "1.5*(distance[0]*accumulate_rate[0]+distance[1]*accumulate_rate[1]+distance[2]*accumulate_rate[2]+distance[3]*accumulate_rate[3]+distance[4]*accumulate_rate[4]+distance[5]*accumulate_rate[5]+distance[6]*accumulate_rate[6]+distance[7]*accumulate_rate[7])"
   ]
  },
  {
   "cell_type": "markdown",
   "metadata": {},
   "source": [
    "### 加上input的里程計算機"
   ]
  },
  {
   "cell_type": "markdown",
   "metadata": {},
   "source": [
    "無會籍加成版"
   ]
  },
  {
   "cell_type": "code",
   "execution_count": 19,
   "metadata": {
    "collapsed": false
   },
   "outputs": [
    {
     "name": "stdout",
     "output_type": "stream",
     "text": [
      "單段飛行里程計算機(無會籍版)\n",
      "請輸入您的飛行距離>>>752\n",
      "請輸入您的累積比率>>>1\n",
      "您本段可以拿到的航空里程為752.0\n"
     ]
    }
   ],
   "source": [
    "print(\"單段飛行里程計算機(無會籍版)\")\n",
    "distance = input(\"請輸入您的飛行距離>>>\")\n",
    "distance = float(distance) #轉換字串為浮點數\n",
    "accumulate_rate = input(\"請輸入您的累積比率>>>\")\n",
    "accumulate_rate = float(accumulate_rate) #轉換字串為浮點數\n",
    "miles = distance*accumulate_rate\n",
    "print(\"您本段可以拿到的航空里程為{}\".format(miles))"
   ]
  },
  {
   "cell_type": "markdown",
   "metadata": {},
   "source": [
    "阿拉斯加航空MVP會籍加成版"
   ]
  },
  {
   "cell_type": "code",
   "execution_count": 21,
   "metadata": {
    "collapsed": false
   },
   "outputs": [
    {
     "name": "stdout",
     "output_type": "stream",
     "text": [
      "單段飛行里程計算機(阿拉斯加航空MVP會籍加成版)\n",
      "請輸入您的飛行距離>>>308\n",
      "請輸入您的累積比率>>>1\n",
      "您本段可以拿到的航空里程為462.0\n"
     ]
    }
   ],
   "source": [
    "print(\"單段飛行里程計算機(阿拉斯加航空MVP會籍加成版)\")\n",
    "distance = input(\"請輸入您的飛行距離>>>\")\n",
    "distance = float(distance) #轉換字串為浮點數\n",
    "accumulate_rate = input(\"請輸入您的累積比率>>>\")\n",
    "accumulate_rate = float(accumulate_rate) #轉換字串為浮點數\n",
    "miles = distance*accumulate_rate*1.5\n",
    "print(\"您本段可以拿到的航空里程為{}\".format(miles))"
   ]
  },
  {
   "cell_type": "markdown",
   "metadata": {},
   "source": [
    "## Week2"
   ]
  },
  {
   "cell_type": "markdown",
   "metadata": {},
   "source": [
    "題目說明：\n",
    "暑假時小方方搭飛機去美國玩，飛了下列航段：\n",
    "\n",
    "\n",
    "|航班   |  出發地-到達地 | 實際距離 |  艙等 |\n",
    "|------|--------------|---------|------|\n",
    "|BR0112|   TPE-OKA    |  408 mi | X    |\n",
    "|NH0762|   OKA-ITM    |  752 mi | X    |\n",
    "|JL0060|   KIX-LAX    |  5743 mi| Y    | \n",
    "|AA6014|   LAX-SJC    |  308mi  | Y    |\n",
    "|AA6054|   SJC-LAX    |  308mi  | Y    |\n",
    "|AA6053|   LAX-SAN    |  110mi  | Y    |\n",
    "|JL0065|   SAN-NRT    |  5558mi | Y    |\n",
    "|JL0809|   NRT-TPE    |  1365mi | Y    |\n",
    "\n",
    "\n",
    "\n",
    "小方方是個有錢人，可是他喜歡打折，\n",
    "所以他想要算出這些飛行能為他的貴賓卡累積多少航空里程。\n",
    "\n",
    "$$航空里程=累積比率 \\times 實際距離 $$\n",
    "\n",
    "其中X艙的累積比率是0，Y艙的累積比率是100%\n",
    "請問我如果小方方沒有會籍加成的話，他可以拿到多少里程？\n",
    "而如果他有阿拉斯加航空的MVP會籍，能夠拿到額外50% 里程bonus，\n",
    "則請問他可以拿到多少里程？\n",
    "\n",
    "上週我們做了一個里程計算機，那麼這周我們試著：\n",
    "\n",
    "- 讓艙等跟累積比率可以自動換算，並利用 for 或 while 迴圈讓我們把整段里程計算完吧！\n",
    "- 把這個小程式用不同函數接起來吧！\n"
   ]
  },
  {
   "cell_type": "code",
   "execution_count": 48,
   "metadata": {
    "collapsed": false
   },
   "outputs": [
    {
     "name": "stdout",
     "output_type": "stream",
     "text": [
      "里程計算機\n",
      "您是否有阿拉斯加航空的MVP會籍呢？(y,N)y\n",
      "請輸入您航段的飛行距離，如果輸入完了，請輸入'end' >>>408\n",
      "請輸入您航段的艙等>>>X\n",
      "您本段可以拿到的航空里程為0.0\n",
      "您總共拿到的航空里程為0.0\n",
      "請輸入您航段的飛行距離，如果輸入完了，請輸入'end' >>>752\n",
      "請輸入您航段的艙等>>>X\n",
      "您本段可以拿到的航空里程為0.0\n",
      "您總共拿到的航空里程為0.0\n",
      "請輸入您航段的飛行距離，如果輸入完了，請輸入'end' >>>5743\n",
      "請輸入您航段的艙等>>>Y\n",
      "您本段可以拿到的航空里程為8614.5\n",
      "您總共拿到的航空里程為8614.5\n",
      "請輸入您航段的飛行距離，如果輸入完了，請輸入'end' >>>308\n",
      "請輸入您航段的艙等>>>Y\n",
      "您本段可以拿到的航空里程為462.0\n",
      "您總共拿到的航空里程為9076.5\n",
      "請輸入您航段的飛行距離，如果輸入完了，請輸入'end' >>>308\n",
      "請輸入您航段的艙等>>>Y\n",
      "您本段可以拿到的航空里程為462.0\n",
      "您總共拿到的航空里程為9538.5\n",
      "請輸入您航段的飛行距離，如果輸入完了，請輸入'end' >>>110\n",
      "請輸入您航段的艙等>>>Y\n",
      "您本段可以拿到的航空里程為165.0\n",
      "您總共拿到的航空里程為9703.5\n",
      "請輸入您航段的飛行距離，如果輸入完了，請輸入'end' >>>5558\n",
      "請輸入您航段的艙等>>>Y\n",
      "您本段可以拿到的航空里程為8337.0\n",
      "您總共拿到的航空里程為18040.5\n",
      "請輸入您航段的飛行距離，如果輸入完了，請輸入'end' >>>1365\n",
      "請輸入您航段的艙等>>>Y\n",
      "您本段可以拿到的航空里程為2047.5\n",
      "您總共拿到的航空里程為20088.0\n",
      "請輸入您航段的飛行距離，如果輸入完了，請輸入'end' >>>end\n",
      "感謝您使用里程計算機\n"
     ]
    }
   ],
   "source": [
    "print('里程計算機')\n",
    "\n",
    "# 歸零\n",
    "#######################\n",
    "miles      = 0\n",
    "miles_total= 0\n",
    "\n",
    "# 會籍確認\n",
    "#######################\n",
    "membership_status= input(\"您是否有阿拉斯加航空的MVP會籍呢？(y,N)\")\n",
    "\n",
    "# 輸入\n",
    "#######################\n",
    "\n",
    "distance        = input(\"請輸入您本航段的飛行距離，如果輸入完了，請輸入'end' >>>\")\n",
    "if distance != 'end':\n",
    "    distance    = float(distance) #轉換字串為浮點數\n",
    "    \n",
    "    Class = input(\"請輸入您航段的艙等>>>\")\n",
    "    \n",
    "    if Class == 'X':\n",
    "        accumulate_rate = 0\n",
    "    elif Class == 'Y':\n",
    "        accumulate_rate = 1\n",
    "\n",
    "    while distance!='end':\n",
    "        if membership_status.lower()=='y':\n",
    "            miles       = distance*accumulate_rate*1.5\n",
    "        else:\n",
    "            miles       = distance*accumulate_rate\n",
    "        print(\"您本段可以拿到的航空里程為{}\".format(miles))\n",
    "        miles_total += miles\n",
    "        print(\"您總共拿到的航空里程為{}\".format(miles_total))\n",
    "\n",
    "        distance        = input(\"請輸入您本航段的飛行距離，如果輸入完了，請輸入'end' >>>\")\n",
    "        if distance != 'end':\n",
    "            distance    = float(distance) #轉換字串為浮點數\n",
    "\n",
    "            Class = input(\"請輸入您航段的艙等>>>\")\n",
    "\n",
    "            if Class == 'X':\n",
    "                accumulate_rate = 0\n",
    "            elif Class == 'Y':\n",
    "                accumulate_rate = 1\n",
    "                \n",
    "        else:\n",
    "            pass\n",
    "            \n",
    "else:\n",
    "    pass\n",
    "print('感謝您使用里程計算機')"
   ]
  },
  {
   "cell_type": "markdown",
   "metadata": {},
   "source": [
    " ### 函數化"
   ]
  },
  {
   "cell_type": "code",
   "execution_count": 65,
   "metadata": {
    "collapsed": false
   },
   "outputs": [],
   "source": [
    "def Input_distance_and_class():\n",
    "    distance        = input(\"請輸入您本航段的飛行距離，如果輸入完了，請輸入'end' >>>\")\n",
    "    if distance != 'end':\n",
    "        distance    = float(distance) #轉換字串為浮點數\n",
    "\n",
    "        Class = input(\"請輸入您航段的艙等>>>\")\n",
    "\n",
    "        if Class == 'X':\n",
    "            accumulate_rate = 0\n",
    "        elif Class == 'Y':\n",
    "            accumulate_rate = 1\n",
    "    else:\n",
    "        accumulate_rate =0\n",
    "            \n",
    "    return distance, accumulate_rate"
   ]
  },
  {
   "cell_type": "code",
   "execution_count": 66,
   "metadata": {
    "collapsed": false
   },
   "outputs": [
    {
     "name": "stdout",
     "output_type": "stream",
     "text": [
      "請輸入您本航段的飛行距離，如果輸入完了，請輸入'end' >>>end\n"
     ]
    },
    {
     "data": {
      "text/plain": [
       "('end', 0)"
      ]
     },
     "execution_count": 66,
     "metadata": {},
     "output_type": "execute_result"
    }
   ],
   "source": [
    "Input_distance_and_class()"
   ]
  },
  {
   "cell_type": "code",
   "execution_count": 67,
   "metadata": {
    "collapsed": false
   },
   "outputs": [
    {
     "name": "stdout",
     "output_type": "stream",
     "text": [
      "里程計算機\n",
      "您是否有阿拉斯加航空的MVP會籍呢？(y,N)y\n",
      "請輸入您本航段的飛行距離，如果輸入完了，請輸入'end' >>>408\n",
      "請輸入您航段的艙等>>>X\n",
      "您本段可以拿到的航空里程為0.0\n",
      "您總共拿到的航空里程為0.0\n",
      "請輸入您本航段的飛行距離，如果輸入完了，請輸入'end' >>>752\n",
      "請輸入您航段的艙等>>>X\n",
      "您本段可以拿到的航空里程為0.0\n",
      "您總共拿到的航空里程為0.0\n",
      "請輸入您本航段的飛行距離，如果輸入完了，請輸入'end' >>>5743\n",
      "請輸入您航段的艙等>>>Y\n",
      "您本段可以拿到的航空里程為8614.5\n",
      "您總共拿到的航空里程為8614.5\n",
      "請輸入您本航段的飛行距離，如果輸入完了，請輸入'end' >>>308\n",
      "請輸入您航段的艙等>>>Y\n",
      "您本段可以拿到的航空里程為462.0\n",
      "您總共拿到的航空里程為9076.5\n",
      "請輸入您本航段的飛行距離，如果輸入完了，請輸入'end' >>>308\n",
      "請輸入您航段的艙等>>>Y\n",
      "您本段可以拿到的航空里程為462.0\n",
      "您總共拿到的航空里程為9538.5\n",
      "請輸入您本航段的飛行距離，如果輸入完了，請輸入'end' >>>110\n",
      "請輸入您航段的艙等>>>Y\n",
      "您本段可以拿到的航空里程為165.0\n",
      "您總共拿到的航空里程為9703.5\n",
      "請輸入您本航段的飛行距離，如果輸入完了，請輸入'end' >>>5558\n",
      "請輸入您航段的艙等>>>Y\n",
      "您本段可以拿到的航空里程為8337.0\n",
      "您總共拿到的航空里程為18040.5\n",
      "請輸入您本航段的飛行距離，如果輸入完了，請輸入'end' >>>1365\n",
      "請輸入您航段的艙等>>>Y\n",
      "您本段可以拿到的航空里程為2047.5\n",
      "您總共拿到的航空里程為20088.0\n",
      "請輸入您本航段的飛行距離，如果輸入完了，請輸入'end' >>>end\n",
      "感謝您使用里程計算機\n"
     ]
    }
   ],
   "source": [
    "print('里程計算機')\n",
    "\n",
    "# 歸零\n",
    "#######################\n",
    "miles      = 0\n",
    "miles_total= 0\n",
    "\n",
    "# 會籍確認\n",
    "#######################\n",
    "membership_status= input(\"您是否有阿拉斯加航空的MVP會籍呢？(y,N)\")\n",
    "\n",
    "# 輸入\n",
    "#######################\n",
    "\n",
    "distance, accumulate_rate = Input_distance_and_class()\n",
    "\n",
    "if distance !='end':\n",
    "    while distance!='end':\n",
    "        if membership_status.lower()=='y':\n",
    "            miles       = distance*accumulate_rate*1.5\n",
    "        else:\n",
    "            miles       = distance*accumulate_rate\n",
    "        print(\"您本段可以拿到的航空里程為{}\".format(miles))\n",
    "        miles_total += miles\n",
    "        print(\"您總共拿到的航空里程為{}\".format(miles_total))\n",
    "        \n",
    "        distance, accumulate_rate = Input_distance_and_class()\n",
    "else:\n",
    "    pass\n",
    "print('感謝您使用里程計算機')"
   ]
  },
  {
   "cell_type": "code",
   "execution_count": null,
   "metadata": {
    "collapsed": true
   },
   "outputs": [],
   "source": []
  }
 ],
 "metadata": {
  "kernelspec": {
   "display_name": "Python 3",
   "language": "python",
   "name": "python3"
  },
  "language_info": {
   "codemirror_mode": {
    "name": "ipython",
    "version": 3
   },
   "file_extension": ".py",
   "mimetype": "text/x-python",
   "name": "python",
   "nbconvert_exporter": "python",
   "pygments_lexer": "ipython3",
   "version": "3.6.0"
  }
 },
 "nbformat": 4,
 "nbformat_minor": 2
}
